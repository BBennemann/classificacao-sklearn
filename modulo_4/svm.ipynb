{
 "cells": [
  {
   "cell_type": "code",
   "execution_count": 1,
   "id": "a16e5ca9",
   "metadata": {},
   "outputs": [
    {
     "name": "stdout",
     "output_type": "stream",
     "text": [
      "Treinaremos com 1617 elementos\n",
      "Testaremos com 540 elementos\n",
      "A acurácia foi de 56.48%\n"
     ]
    }
   ],
   "source": [
    "from sklearn.model_selection import train_test_split\n",
    "from sklearn.svm import SVC\n",
    "from sklearn.metrics import accuracy_score\n",
    "import pandas as pd\n",
    "\n",
    "uri = \"https://gist.githubusercontent.com/guilhermesilveira/12291c548acaf544596795709020e3db/raw/325bdef098bd9cbc2189215b7e32e22f437f29f3/projetos.csv\"\n",
    "dados = pd.read_csv(uri)\n",
    "\n",
    "dados['finalizado'] = dados[\"nao_finalizado\"].map({1 : 0, 0 : 1})\n",
    "\n",
    "dados = dados.query('horas_esperadas > 0')\n",
    "\n",
    "x = dados[['horas_esperadas', 'preco']]\n",
    "y = dados['finalizado']\n",
    "\n",
    "seed = 1256\n",
    "\n",
    "x_treino, x_teste, y_treino, y_teste = train_test_split(x, y, random_state=seed, stratify=y)\n",
    "\n",
    "print(f\"Treinaremos com {len(x_treino)} elementos\")\n",
    "print(f\"Testaremos com {len(x_teste)} elementos\")\n",
    "\n",
    "modelo = SVC()\n",
    "modelo.fit(x_treino, y_treino)\n",
    "previsoes = modelo.predict(x_teste)\n",
    "\n",
    "acuracia = accuracy_score(y_teste, previsoes) * 100\n",
    "print(f\"A acurácia foi de {acuracia:.2f}%\")\n"
   ]
  },
  {
   "cell_type": "code",
   "execution_count": 2,
   "id": "56b44a61",
   "metadata": {},
   "outputs": [
    {
     "name": "stdout",
     "output_type": "stream",
     "text": [
      "1.0\n",
      "100.0\n",
      "100.0\n",
      "28398.0\n"
     ]
    }
   ],
   "source": [
    "x_min = x_teste[\"horas_esperadas\"].min()\n",
    "x_max = x_teste[\"horas_esperadas\"].max()\n",
    "y_min = x_teste[\"preco\"].min()\n",
    "y_max = x_teste[\"preco\"].max()\n",
    "\n",
    "print(x_min)\n",
    "print(x_max)\n",
    "print(y_min)\n",
    "print(y_max)"
   ]
  },
  {
   "cell_type": "code",
   "execution_count": 5,
   "id": "a50de23e",
   "metadata": {},
   "outputs": [
    {
     "name": "stderr",
     "output_type": "stream",
     "text": [
      "/home/bernardo.bennemann/.local/lib/python3.10/site-packages/sklearn/utils/validation.py:2739: UserWarning: X does not have valid feature names, but SVC was fitted with feature names\n",
      "  warnings.warn(\n"
     ]
    },
    {
     "data": {
      "text/plain": [
       "<matplotlib.contour.QuadContourSet at 0x797f3283e590>"
      ]
     },
     "execution_count": 5,
     "metadata": {},
     "output_type": "execute_result"
    },
    {
     "data": {
      "image/png": "[encoded data removed]",
      "text/plain": [
       "<Figure size 640x480 with 1 Axes>"
      ]
     },
     "metadata": {},
     "output_type": "display_data"
    }
   ],
   "source": [
    "import numpy as np\n",
    "import matplotlib.pyplot as plt\n",
    "\n",
    "\n",
    "pixel = 100\n",
    "\n",
    "eixo_x = np.arange(x_min, x_max, (x_max - x_min) / pixel)\n",
    "eixo_y = np.arange(y_min, y_max, (y_max - y_min) / pixel)\n",
    "\n",
    "xx, yy =np.meshgrid(eixo_x, eixo_y)\n",
    "pontos = np.c_[xx.ravel(), yy.ravel()]\n",
    "\n",
    "z = modelo.predict(pontos)\n",
    "z = z.reshape(xx.shape)\n",
    "\n",
    "plt.contourf(xx, yy, z)"
   ]
  },
  {
   "cell_type": "code",
   "execution_count": 6,
   "id": "6af34b1a",
   "metadata": {},
   "outputs": [
    {
     "name": "stdout",
     "output_type": "stream",
     "text": [
      "Treinaremos com 1617 elementos\n",
      "Testaremos com 540 elementos\n",
      "A acurácia foi de 66.30%\n"
     ]
    }
   ],
   "source": [
    "from sklearn.model_selection import train_test_split\n",
    "from sklearn.svm import SVC\n",
    "from sklearn.metrics import accuracy_score\n",
    "from sklearn.preprocessing import StandardScaler\n",
    "import pandas as pd\n",
    "\n",
    "uri = \"https://gist.githubusercontent.com/guilhermesilveira/12291c548acaf544596795709020e3db/raw/325bdef098bd9cbc2189215b7e32e22f437f29f3/projetos.csv\"\n",
    "dados = pd.read_csv(uri)\n",
    "\n",
    "dados['finalizado'] = dados[\"nao_finalizado\"].map({1 : 0, 0 : 1})\n",
    "\n",
    "dados = dados.query('horas_esperadas > 0')\n",
    "\n",
    "x = dados[['horas_esperadas', 'preco']]\n",
    "y = dados['finalizado']\n",
    "\n",
    "seed = 1256\n",
    "\n",
    "x_treino, x_teste, y_treino, y_teste = train_test_split(x, y, random_state=seed, stratify=y)\n",
    "\n",
    "print(f\"Treinaremos com {len(x_treino)} elementos\")\n",
    "print(f\"Testaremos com {len(x_teste)} elementos\")\n",
    "\n",
    "scaler = StandardScaler()\n",
    "scaler.fit(x_treino)\n",
    "\n",
    "x_treino = scaler.transform(x_treino)\n",
    "x_teste = scaler.transform(x_teste)\n",
    "\n",
    "modelo = SVC()\n",
    "modelo.fit(x_treino, y_treino)\n",
    "previsoes = modelo.predict(x_teste)\n",
    "\n",
    "acuracia = accuracy_score(y_teste, previsoes) * 100\n",
    "print(f\"A acurácia foi de {acuracia:.2f}%\")\n"
   ]
  },
  {
   "cell_type": "code",
   "execution_count": 7,
   "id": "dc0033aa",
   "metadata": {},
   "outputs": [
    {
     "data": {
      "text/plain": [
       "<matplotlib.contour.QuadContourSet at 0x797f10c97310>"
      ]
     },
     "execution_count": 7,
     "metadata": {},
     "output_type": "execute_result"
    },
    {
     "data": {
      "image/png": "[encoded data removed]",
      "text/plain": [
       "<Figure size 640x480 with 1 Axes>"
      ]
     },
     "metadata": {},
     "output_type": "display_data"
    }
   ],
   "source": [
    "data_col1 = x_teste[:, 0]\n",
    "data_col2 = x_teste[:, 1]\n",
    "\n",
    "x_min = data_col1.min()\n",
    "x_max = data_col1.max()\n",
    "y_min = data_col2.min()\n",
    "y_max = data_col2.max()\n",
    "\n",
    "import numpy as np\n",
    "import matplotlib.pyplot as plt\n",
    "\n",
    "\n",
    "pixel = 100\n",
    "\n",
    "eixo_x = np.arange(x_min, x_max, (x_max - x_min) / pixel)\n",
    "eixo_y = np.arange(y_min, y_max, (y_max - y_min) / pixel)\n",
    "\n",
    "xx, yy =np.meshgrid(eixo_x, eixo_y)\n",
    "pontos = np.c_[xx.ravel(), yy.ravel()]\n",
    "\n",
    "z = modelo.predict(pontos)\n",
    "z = z.reshape(xx.shape)\n",
    "\n",
    "plt.contourf(xx, yy, z)"
   ]
  },
  {
   "cell_type": "code",
   "execution_count": null,
   "id": "b4274614",
   "metadata": {},
   "outputs": [],
   "source": []
  }
 ],
 "metadata": {
  "kernelspec": {
   "display_name": "Python 3",
   "language": "python",
   "name": "python3"
  },
  "language_info": {
   "codemirror_mode": {
    "name": "ipython",
    "version": 3
   },
   "file_extension": ".py",
   "mimetype": "text/x-python",
   "name": "python",
   "nbconvert_exporter": "python",
   "pygments_lexer": "ipython3",
   "version": "3.10.12"
  }
 },
 "nbformat": 4,
 "nbformat_minor": 5
}
